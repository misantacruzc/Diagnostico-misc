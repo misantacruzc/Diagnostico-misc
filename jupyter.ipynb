{
 "cells": [
  {
   "cell_type": "markdown",
   "metadata": {},
   "source": [
    "Si quieres ver los 10 tweets más retweeted poner 1.\n",
    "Si quieres ver los 10 usuarios que más tweets han emitido poner 2.\n",
    "Si quieres ver los 10 días en donde hay más tweets poner 3.\n",
    "Si quieres ver los 10 hashtag más usados poner 4."
   ]
  },
  {
   "cell_type": "code",
   "execution_count": 1,
   "metadata": {},
   "outputs": [
    {
     "data": {
      "text/plain": [
       "[('2021-02-03', 83866),\n",
       " ('2021-02-04', 58607),\n",
       " ('2021-02-05', 33332),\n",
       " ('2021-02-02', 28548),\n",
       " ('2021-02-06', 22420),\n",
       " ('2021-02-07', 11325),\n",
       " ('2021-02-09', 9320),\n",
       " ('2021-02-08', 8920),\n",
       " ('2021-02-10', 7973),\n",
       " ('2021-02-11', 5698)]"
      ]
     },
     "execution_count": 1,
     "metadata": {},
     "output_type": "execute_result"
    }
   ],
   "source": [
    "from main import main\n",
    "\n",
    "main()"
   ]
  }
 ],
 "metadata": {
  "interpreter": {
   "hash": "aee8b7b246df8f9039afb4144a1f6fd8d2ca17a180786b69acc140d282b71a49"
  },
  "kernelspec": {
   "display_name": "Python 3.7.4 64-bit",
   "language": "python",
   "name": "python3"
  },
  "language_info": {
   "codemirror_mode": {
    "name": "ipython",
    "version": 3
   },
   "file_extension": ".py",
   "mimetype": "text/x-python",
   "name": "python",
   "nbconvert_exporter": "python",
   "pygments_lexer": "ipython3",
   "version": "3.7.4"
  },
  "orig_nbformat": 4
 },
 "nbformat": 4,
 "nbformat_minor": 2
}

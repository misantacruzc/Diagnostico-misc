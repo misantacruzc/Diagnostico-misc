{
 "cells": [
  {
   "cell_type": "code",
   "execution_count": 1,
   "metadata": {},
   "outputs": [
    {
     "data": {
      "text/plain": [
       "['why aren’t we talking about this?! #FarmersProtest https://t.co/obmIlXhK9S',\n",
       " 'We stand in solidarity with the #FarmersProtest in India.\\n https://t.co/tqvR0oHgo0',\n",
       " 'I still #StandWithFarmers and support their peaceful protest.\\nNo amount of hate, threats or violations of human rights will ever change that. #FarmersProtest',\n",
       " '“Paid actors,” huh? Quite the casting director, I hope they’re not overlooked during awards season. I stand with the farmers. #FarmersProtest https://t.co/moONj03tN0',\n",
       " 'What in the human rights violations is going on?! They cut the internet around New Delhi?! #FarmersProtest https://t.co/a5ml1P2ikU',\n",
       " 'Happy to share that I’ve donated $10,000 to provide medical assistance to the farmers in need in India to help save lives during these times. I hope we can prevent any additional life from being lost. 🙏🏾 #FarmersProtest https://t.co/0WoEw0l3ij',\n",
       " 'There has been much social media coverage around the #FarmersProtest in #India. Very useful guide to the legislation and the impact on farmers. 1/2 https://t.co/3CsdgBebdZ',\n",
       " 'Farmers feed the world. Fight for them. Protect them #FarmersProtest',\n",
       " 'Should be talking about this! #FarmersProtest\\n\\nhttps://t.co/Xh09iTvVoF',\n",
       " 'To all of my influencer/celeb friends- read up on this   #FarmersProtest 👀']"
      ]
     },
     "execution_count": 1,
     "metadata": {},
     "output_type": "execute_result"
    }
   ],
   "source": [
    "from main import main\n",
    "\n",
    "main()"
   ]
  }
 ],
 "metadata": {
  "interpreter": {
   "hash": "aee8b7b246df8f9039afb4144a1f6fd8d2ca17a180786b69acc140d282b71a49"
  },
  "kernelspec": {
   "display_name": "Python 3.7.4 64-bit",
   "language": "python",
   "name": "python3"
  },
  "language_info": {
   "codemirror_mode": {
    "name": "ipython",
    "version": 3
   },
   "file_extension": ".py",
   "mimetype": "text/x-python",
   "name": "python",
   "nbconvert_exporter": "python",
   "pygments_lexer": "ipython3",
   "version": "3.7.4"
  },
  "orig_nbformat": 4
 },
 "nbformat": 4,
 "nbformat_minor": 2
}

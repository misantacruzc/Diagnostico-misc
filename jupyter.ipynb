{
 "cells": [
  {
   "cell_type": "code",
   "execution_count": 2,
   "metadata": {},
   "outputs": [
    {
     "data": {
      "text/plain": [
       "[('threadreaderapp', 1762402),\n",
       " ('GeorgekurianINC', 1711890),\n",
       " ('CyberAnonymous', 1435641),\n",
       " ('unbiased100', 1027493),\n",
       " ('pavan_sethi', 1015822),\n",
       " ('animesh1977', 974774),\n",
       " ('CNBCTV18Live', 944142),\n",
       " ('htTweets', 867950),\n",
       " ('CNNnews18', 863748),\n",
       " ('IndiaToday', 851132)]"
      ]
     },
     "execution_count": 2,
     "metadata": {},
     "output_type": "execute_result"
    }
   ],
   "source": [
    "from main import main\n",
    "\n",
    "main()"
   ]
  }
 ],
 "metadata": {
  "interpreter": {
   "hash": "aee8b7b246df8f9039afb4144a1f6fd8d2ca17a180786b69acc140d282b71a49"
  },
  "kernelspec": {
   "display_name": "Python 3.7.4 64-bit",
   "language": "python",
   "name": "python3"
  },
  "language_info": {
   "codemirror_mode": {
    "name": "ipython",
    "version": 3
   },
   "file_extension": ".py",
   "mimetype": "text/x-python",
   "name": "python",
   "nbconvert_exporter": "python",
   "pygments_lexer": "ipython3",
   "version": "3.7.4"
  },
  "orig_nbformat": 4
 },
 "nbformat": 4,
 "nbformat_minor": 2
}
